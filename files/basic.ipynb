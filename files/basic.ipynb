{
 "cells": [
  {
   "cell_type": "markdown",
   "metadata": {},
   "source": [
    "first, we need setup vscode and python environment to run this notebook.\n",
    "\n",
    "# On local PC\n",
    "\n",
    "* we need install miniconda and setup a virtual environment for this learning activities.\n",
    "  * `conda create --name=learn python=3.13`\n",
    "* then install `ipykernel`\n",
    "  * `which pip`\n",
    "  * `pip install ipykernel`\n",
    "\n",
    "# On VS Code\n",
    "\n",
    "* we need `python` and `jupyter` extension from microsoft.\n",
    "* Go to the Extensions view by clicking on the icon on the sidebar or pressing Ctrl+Shift+X (Windows/Linux) or Cmd+Shift+X (macOS).\n",
    "* Search for and install:\n",
    "  * \"Jupyter\" extension by Microsoft. This enables Jupyter notebook integration.\n",
    "  * \"Python\" extension by Microsoft for enhanced Python support.\n",
    "* Set Up Your Environment:\n",
    "  * Open the Command Palette (Ctrl+Shift+P or Cmd+Shift+P).\n",
    "  * Type \"Configure Python\" and select \"Python: Set Default Interpreter Path.\"\n",
    "  * Choose the location of your Python interpreter or specify it manually.\n",
    "* Create a New Jupyter Notebook:\n",
    "  * create a new file with a .ipynb extension.\n",
    "  * You can start coding and run cells using Ctrl+Enter to execute the current cell or Shift+Enter to run and move to the next cell."
   ]
  },
  {
   "cell_type": "markdown",
   "metadata": {},
   "source": [
    "let's start with basic stuff"
   ]
  },
  {
   "cell_type": "code",
   "execution_count": 14,
   "metadata": {},
   "outputs": [
    {
     "name": "stdout",
     "output_type": "stream",
     "text": [
      "0\n",
      "1\n",
      "1\n",
      "2\n",
      "3\n",
      "5\n",
      "8\n",
      "13\n",
      "21\n"
     ]
    }
   ],
   "source": [
    "def fibonacci():\n",
    "    a, b = 0, 1\n",
    "    while True:\n",
    "        yield a\n",
    "        a, b = b, a + b\n",
    "\n",
    "fib = fibonacci()\n",
    "for _ in range(9):\n",
    "    print(next(fib))"
   ]
  },
  {
   "cell_type": "markdown",
   "metadata": {},
   "source": [
    "ok, let's continue. Python is a pass-by-reference type of language, means the arguments can be altered inside the function because they are basically references to the objects.\n",
    "\n",
    "* Mutable objects (like lists or dictionaries) can be modified within the function.\n",
    "* Immutable objects (like integers or strings) cannot be changed and reassigning them inside the function doesn’t affect the original object."
   ]
  },
  {
   "cell_type": "code",
   "execution_count": 15,
   "metadata": {},
   "outputs": [
    {
     "name": "stdout",
     "output_type": "stream",
     "text": [
      "hello, world\n",
      "hello\n",
      "['hello', ', world']\n"
     ]
    }
   ],
   "source": [
    "def fun(a, b):\n",
    "    a += \", world\"\n",
    "    # here `a` is `a` local variable, a totally different object than global variable `a`\n",
    "    b.append(\", world\")\n",
    "    # here b is a reference to the original list\n",
    "    print(a)\n",
    "\n",
    "a = \"hello\"\n",
    "b = [\"hello\"]\n",
    "fun(a, b)\n",
    "print(a)\n",
    "print(b)\n"
   ]
  },
  {
   "cell_type": "markdown",
   "metadata": {},
   "source": [
    "let's try some data structures like set"
   ]
  },
  {
   "cell_type": "code",
   "execution_count": null,
   "metadata": {},
   "outputs": [
    {
     "name": "stdout",
     "output_type": "stream",
     "text": [
      "[6, 1, 2, 3, 2, 4, 5, 1]\n",
      "{1, 2, 3, 4, 5, 6}\n",
      "[1, 2, 3, 4, 5, 6]\n",
      "[6, 1, 2, 3, 2, 4, 1]\n",
      "[6, 1, 2, 2, 4, 1]\n",
      "[6, 2, 2, 4, 1]\n",
      "[]\n"
     ]
    }
   ],
   "source": [
    "my_list = [6, 1, 2, 3, 2, 4, 5, 1]\n",
    "print(my_list)\n",
    "my_set = set(my_list)\n",
    "print(my_set)\n",
    "print(list(my_set))\n",
    "\n",
    "# deletions\n",
    "del my_list[6] # remove the element at index 6\n",
    "print(my_list)\n",
    "\n",
    "my_list.pop(3) # remove the element at index 3\n",
    "print(my_list)\n",
    "\n",
    "my_list.remove(1) # remove the first occurrence of value 1\n",
    "print(my_list)\n",
    "\n",
    "del my_list[:] # remove all elements\n",
    "print(my_list)"
   ]
  },
  {
   "cell_type": "markdown",
   "metadata": {},
   "source": [
    "**comprehension**, a syntax construction to ease the creation of list/set/dict. Also, people are saying it is more efficient"
   ]
  },
  {
   "cell_type": "code",
   "execution_count": 24,
   "metadata": {},
   "outputs": [
    {
     "name": "stdout",
     "output_type": "stream",
     "text": [
      "[2, 6, 8, 12, 14, 16, 6, 8, 18]\n",
      "{2, 6, 8, 12, 14, 16, 18}\n",
      "{2: 8, 6: 24, 8: 32, 12: 48, 14: 56, 16: 64, 18: 72}\n"
     ]
    }
   ],
   "source": [
    "# list\n",
    "old_list = [1, 3, 4, 6, 7, 8, 3, 4, 9]\n",
    "new_list = [x*2 for x in old_list]\n",
    "print(new_list)\n",
    "a_set = {x*2 for x in old_list}\n",
    "print(a_set)\n",
    "a_dict = {x: x*4 for x in a_set}\n",
    "print(a_dict)"
   ]
  },
  {
   "cell_type": "markdown",
   "metadata": {},
   "source": [
    "some file operation, try to decode a file and convert it to utf-8, but somehow Anki still display random chars"
   ]
  },
  {
   "cell_type": "code",
   "execution_count": 34,
   "metadata": {},
   "outputs": [
    {
     "name": "stdout",
     "output_type": "stream",
     "text": [
      "Failed to decode with utf-8, error is 'utf-8' codec can't decode byte 0xb5 in position 1: invalid start byte\n",
      "latin-1\n",
      "Converted /tmp/apg/713 from latin-1 to utf-8\n"
     ]
    }
   ],
   "source": [
    "import codecs\n",
    "\n",
    "# file=\"/home/xzhao/Downloads/Certifications__2CiscoDev__ENAUTO.apkg\"\n",
    "file=\"/tmp/apg/713\"\n",
    "\n",
    "def detect_encoding(file):\n",
    "    with open(file, \"rb\") as f:\n",
    "        encoding = codecs.detect_encoding(f.read())\n",
    "        return encoding['encoding']\n",
    "\n",
    "def detect_encoding2(file):\n",
    "    with open(file, \"rb\") as f:\n",
    "        data = f.read()\n",
    "\n",
    "        possible_encodings = [\"utf-8\", \"latin-1\", \"iso-8859-1\"]\n",
    "        for enc in possible_encodings:\n",
    "            try:\n",
    "                data.decode(enc)\n",
    "            except UnicodeDecodeError as e:\n",
    "                print(f\"Failed to decode with {enc}, error is {e}\")\n",
    "                continue\n",
    "            else:\n",
    "                return enc\n",
    "\n",
    "def convert_file(file, old_enc, new_enc):\n",
    "    with open(file, \"rb\") as f:\n",
    "        data = f.read()\n",
    "\n",
    "    new_file = f'{file}.new.txt'\n",
    "    new_data = data.decode(old_enc)\n",
    "\n",
    "    with open(new_file, \"w\", encoding=new_enc) as f:\n",
    "        f.write(new_data)\n",
    "\n",
    "enc = detect_encoding2(file)\n",
    "print(enc)\n",
    "if enc != \"utf-8\":  \n",
    "    convert_file(file, enc, \"utf-8\")\n",
    "    print(f\"Converted {file} from {enc} to utf-8\")\n"
   ]
  },
  {
   "cell_type": "markdown",
   "metadata": {},
   "source": [
    "let's research on dictionary, which is a hash table basically and using linked-list (separate chaining) to resolve the collision."
   ]
  },
  {
   "cell_type": "code",
   "execution_count": 1,
   "metadata": {},
   "outputs": [
    {
     "name": "stdout",
     "output_type": "stream",
     "text": [
      "key: apple, hash: 3, bucket: []\n",
      "key: banana, hash: 1, bucket: []\n",
      "key: apply, hash: 1, bucket: [('banana', 2)]\n",
      "key: apple, hash: 3, bucket: [('apple', 1)]\n",
      "5\n",
      "2\n",
      "3\n",
      "get error: 'melon' is not in the hash table\n",
      "get error: 'apply' is not in the hash table\n"
     ]
    }
   ],
   "source": [
    "# Simple example of separate chaining using lists as buckets\n",
    "class HashTable:\n",
    "    def __init__(self):\n",
    "        self.buckets = [[] for _ in range(5)]\n",
    "    \n",
    "    def get_bucket(self, key_hash):\n",
    "        return self.buckets[key_hash % len(self.buckets)]\n",
    "\n",
    "    def insert(self, key, value):\n",
    "        bucket = self.get_bucket(hash(key))\n",
    "        h = hash(key) % len(self.buckets)\n",
    "        print(f\"key: {key}, hash: {h}, bucket: {bucket}\")\n",
    "        # Search the bucket for the key\n",
    "        for i, (k, v) in enumerate(bucket):\n",
    "            if k == key:\n",
    "                bucket[i] = (key, value)\n",
    "                return\n",
    "        # If not found, append to the bucket\n",
    "        bucket.append((key, value))\n",
    "\n",
    "    def delete(self, key):\n",
    "        bucket = self.get_bucket(hash(key))\n",
    "        for i, (k, v) in enumerate(bucket):\n",
    "            if k == key:\n",
    "                del bucket[i]\n",
    "                return\n",
    "        raise KeyError(key)\n",
    "\n",
    "    def get(self, key):\n",
    "        bucket = self.get_bucket(hash(key))\n",
    "        for k, v in bucket:\n",
    "            if k == key:\n",
    "                return v\n",
    "        raise KeyError(key)\n",
    "\n",
    "# Create a hash table and insert some values\n",
    "ht = HashTable()\n",
    "ht.insert(\"apple\", 1)\n",
    "ht.insert(\"banana\", 2)\n",
    "ht.insert(\"apply\", 3)\n",
    "ht.insert(\"apple\", 5)\n",
    "\n",
    "try:\n",
    "    print(ht.get(\"apple\"))   # Output: 1\n",
    "    print(ht.get(\"banana\"))  # Output: 2\n",
    "    print(ht.get(\"apply\"))\n",
    "    print(ht.get(\"melon\"))\n",
    "except KeyError as e:\n",
    "    print(f\"get error: {e} is not in the hash table\")\n",
    "\n",
    "ht.delete(\"apply\")\n",
    "try:\n",
    "    print(ht.get(\"apply\"))\n",
    "except KeyError as e:\n",
    "    print(f\"get error: {e} is not in the hash table\")\n"
   ]
  },
  {
   "cell_type": "markdown",
   "metadata": {},
   "source": [
    "lambda function, can have any number of parameters but, can have just one statement."
   ]
  },
  {
   "cell_type": "code",
   "execution_count": 19,
   "metadata": {},
   "outputs": [
    {
     "name": "stdout",
     "output_type": "stream",
     "text": [
      "26\n"
     ]
    }
   ],
   "source": [
    "a = lambda x, y : x+y\n",
    "print(a(7, 19))"
   ]
  },
  {
   "cell_type": "markdown",
   "metadata": {},
   "source": [
    "now let's do something about dictionary"
   ]
  },
  {
   "cell_type": "code",
   "execution_count": 28,
   "metadata": {},
   "outputs": [
    {
     "name": "stdout",
     "output_type": "stream",
     "text": [
      "Laptop\n",
      "North America Laptop 500\n",
      "North America Phone 700\n",
      "Europe Tablet 400\n",
      "Europe Smartwatch 400\n"
     ]
    }
   ],
   "source": [
    "sales_data = [\n",
    "    {\n",
    "        \"region\": \"North America\",\n",
    "        \"products\": [\n",
    "            {\"product_id\": 101, \"name\": \"Laptop\", \"sales\": 500},\n",
    "            {\"product_id\": 102, \"name\": \"Phone\", \"sales\": 700}\n",
    "        ]\n",
    "    },\n",
    "    {\n",
    "        \"region\": \"Europe\",\n",
    "        \"products\": [\n",
    "            {\"product_id\": 201, \"name\": \"Tablet\", \"sales\": 400},\n",
    "            {\"product_id\": 202, \"name\": \"Smartwatch\", \"sales\": 350}\n",
    "        ]\n",
    "    }\n",
    "]\n",
    "\n",
    "# Accessing nested data\n",
    "print(sales_data[0][\"products\"][0][\"name\"])  # Output: Laptop\n",
    "\n",
    "# Modifying sales data for a product in Europe\n",
    "sales_data[1][\"products\"][1][\"sales\"] = 400\n",
    "# print(sales_data)\n",
    "\n",
    "for item in sales_data:\n",
    "    for product in item[\"products\"]:\n",
    "        print(item[\"region\"], product[\"name\"], product[\"sales\"])"
   ]
  },
  {
   "cell_type": "markdown",
   "metadata": {},
   "source": [
    "about `*args` and `**kwargs`, just using for loop to loop over it"
   ]
  },
  {
   "cell_type": "code",
   "execution_count": 29,
   "metadata": {},
   "outputs": [
    {
     "name": "stdout",
     "output_type": "stream",
     "text": [
      "First argument: 1\n",
      "\n",
      "Additional arguments (*args):\n",
      "2\n",
      "3\n",
      "4\n",
      "\n",
      "Keyword arguments (**kwargs):\n",
      "name: Alice\n",
      "age: 30\n",
      "city: New York\n"
     ]
    }
   ],
   "source": [
    "def example_function(arg1, *args, **kwargs):\n",
    "    print(\"First argument:\", arg1)\n",
    "    \n",
    "    print(\"\\nAdditional arguments (*args):\")\n",
    "    for arg in args:\n",
    "        print(arg)\n",
    "    \n",
    "    print(\"\\nKeyword arguments (**kwargs):\")\n",
    "    for key, value in kwargs.items():\n",
    "        print(f\"{key}: {value}\")\n",
    "\n",
    "# Example usage\n",
    "example_function(1, 2, 3, 4, name=\"Alice\", age=30, city=\"New York\")"
   ]
  },
  {
   "cell_type": "markdown",
   "metadata": {},
   "source": [
    "docstring?"
   ]
  },
  {
   "cell_type": "code",
   "execution_count": 30,
   "metadata": {},
   "outputs": [
    {
     "name": "stdout",
     "output_type": "stream",
     "text": [
      "Total Sales: 2000\n",
      "\n",
      "Calculate the total sales from the sales data.\n",
      "\n",
      "Args:\n",
      "    data (list): A list of dictionaries containing sales data. Each dictionary represents a region and contains a list of products with their sales.\n",
      "\n",
      "Returns:\n",
      "    int: The total sales from all regions and products.\n",
      "\n"
     ]
    }
   ],
   "source": [
    "def get_total_sales(data):\n",
    "    \"\"\"\n",
    "    Calculate the total sales from the sales data.\n",
    "\n",
    "    Args:\n",
    "        data (list): A list of dictionaries containing sales data. Each dictionary represents a region and contains a list of products with their sales.\n",
    "\n",
    "    Returns:\n",
    "        int: The total sales from all regions and products.\n",
    "    \"\"\"\n",
    "    total_sales = 0\n",
    "    for region in data:\n",
    "        for product in region[\"products\"]:\n",
    "            total_sales += product[\"sales\"]\n",
    "    return total_sales\n",
    "\n",
    "# Example usage\n",
    "total_sales = get_total_sales(sales_data)\n",
    "print(f\"Total Sales: {total_sales}\")\n",
    "\n",
    "print(get_total_sales.__doc__)"
   ]
  },
  {
   "cell_type": "code",
   "execution_count": 33,
   "metadata": {},
   "outputs": [
    {
     "name": "stdout",
     "output_type": "stream",
     "text": [
      "2.5\n",
      "2\n",
      "3\n"
     ]
    }
   ],
   "source": [
    "import math\n",
    "\n",
    "print(5/2)\n",
    "print(5//2)\n",
    "print(math.ceil(5/2))"
   ]
  }
 ],
 "metadata": {
  "kernelspec": {
   "display_name": "learn",
   "language": "python",
   "name": "python3"
  },
  "language_info": {
   "codemirror_mode": {
    "name": "ipython",
    "version": 3
   },
   "file_extension": ".py",
   "mimetype": "text/x-python",
   "name": "python",
   "nbconvert_exporter": "python",
   "pygments_lexer": "ipython3",
   "version": "3.13.2"
  }
 },
 "nbformat": 4,
 "nbformat_minor": 2
}
