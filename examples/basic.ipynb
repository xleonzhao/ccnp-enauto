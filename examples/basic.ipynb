{
 "cells": [
  {
   "cell_type": "code",
   "execution_count": 4,
   "id": "b4b2deda-6c33-487a-afb6-d86cee9a29f7",
   "metadata": {},
   "outputs": [
    {
     "name": "stdin",
     "output_type": "stream",
     "text": [
      "> very\n"
     ]
    },
    {
     "name": "stdout",
     "output_type": "stream",
     "text": [
      "input data is very\n"
     ]
    }
   ],
   "source": [
    "in_data=input('>')\n",
    "print(f\"input data is {in_data}\")"
   ]
  },
  {
   "cell_type": "code",
   "execution_count": 6,
   "id": "344603be-d5d5-4b20-8d52-ccc3754e7aaa",
   "metadata": {},
   "outputs": [
    {
     "name": "stdout",
     "output_type": "stream",
     "text": [
      "spamspamspam\n"
     ]
    }
   ],
   "source": [
    "print(\"spam\"*3)"
   ]
  },
  {
   "cell_type": "code",
   "execution_count": 7,
   "id": "91b965c3-5d65-4721-8fcd-02e3f8915255",
   "metadata": {},
   "outputs": [
    {
     "name": "stdout",
     "output_type": "stream",
     "text": [
      "0\n",
      "1\n",
      "2\n",
      "3\n",
      "4\n",
      "5\n",
      "6\n",
      "7\n",
      "8\n",
      "9\n"
     ]
    }
   ],
   "source": [
    "for i in range(0,10,1):\n",
    "    print(i)"
   ]
  },
  {
   "cell_type": "code",
   "execution_count": 113,
   "id": "d139c323-e809-4e54-b1ca-64285b0fed19",
   "metadata": {},
   "outputs": [
    {
     "name": "stdout",
     "output_type": "stream",
     "text": [
      "['If', 'you’ve', 'ever', 'put', 'a', 'print', 'function', 'in', 'your', 'code', 'to', 'output', 'some', 'variable’s', 'value', 'while', 'your', 'program', 'is', 'running', 'you’ve', 'used', 'a', 'form', 'of', 'logging', 'to', 'debug', 'your', 'code', 'Logging', 'is', 'a', 'great', 'way', 'to', 'understand', 'what’s', 'happening', 'in', 'your', 'program', 'and', 'in', 'what', 'order', 'it’s', 'happening', 'Python’s', 'logging', 'module', 'makes', 'it', 'easy', 'to', 'create', 'a', 'record', 'of', 'custom', 'messages', 'that', 'you', 'write', 'These', 'log', 'mes', 'sages', 'will', 'describe', 'when', 'the', 'program', 'execution', 'has', 'reached', 'the', 'logging', 'function', 'call', 'and', 'will', 'list', 'any', 'variables', 'you’ve', 'specified', 'at', 'that', 'point', 'in', 'time', 'providing', 'a', 'trail', 'of', 'breadcrumbs', 'that', 'can', 'help', 'you', 'figure', 'out', 'when', 'things', 'started', 'to', 'go', 'wrong', 'On', 'the', 'other', 'hand', 'a', 'missing', 'log', 'message', 'indicates', 'a', 'part', 'of', 'the', 'code', 'was', 'skipped', 'and', 'never', 'executed']\n",
      "['If', 'Logging', 'On', 'Python’s', 'These', 'a', 'a', 'a', 'a', 'a', 'a', 'a', 'and', 'and', 'and', 'any', 'at', 'breadcrumbs', 'call', 'can', 'code', 'code', 'code', 'create', 'custom', 'debug', 'describe', 'easy', 'ever', 'executed', 'execution', 'figure', 'form', 'function', 'function', 'go', 'great', 'hand', 'happening', 'happening', 'has', 'help', 'in', 'in', 'in', 'in', 'indicates', 'is', 'is', 'it', 'it’s', 'list', 'log', 'log', 'logging', 'logging', 'logging', 'makes', 'mes', 'message', 'messages', 'missing', 'module', 'never', 'of', 'of', 'of', 'of', 'order', 'other', 'out', 'output', 'part', 'point', 'print', 'program', 'program', 'program', 'providing', 'put', 'reached', 'record', 'running', 'sages', 'skipped', 'some', 'specified', 'started', 'that', 'that', 'that', 'the', 'the', 'the', 'the', 'things', 'time', 'to', 'to', 'to', 'to', 'to', 'trail', 'understand', 'used', 'value', 'variables', 'variable’s', 'was', 'way', 'what', 'what’s', 'when', 'when', 'while', 'will', 'will', 'write', 'wrong', 'you', 'you', 'your', 'your', 'your', 'your', 'you’ve', 'you’ve', 'you’ve']\n",
      "{'hand', 'put', 'and', 'other', 'part', 'module', 'write', 'trail', 'things', 'create', 'will', 'program', 'sages', 'variables', 'it’s', 'message', 'used', 'to', 'wrong', 'list', 'started', 'of', 'you’ve', 'happening', 'function', 'when', 'easy', 'is', 'has', 'the', 'in', 'never', 'mes', 'that', 'value', 'skipped', 'a', 'logging', 'providing', 'If', 'at', 'what', 'variable’s', 'debug', 'On', 'code', 'Python’s', 'what’s', 'reached', 'specified', 'These', 'your', 'can', 'way', 'any', 'output', 'Logging', 'you', 'understand', 'out', 'was', 'ever', 'order', 'help', 'figure', 'record', 'makes', 'executed', 'log', 'some', 'while', 'it', 'call', 'indicates', 'execution', 'describe', 'point', 'messages', 'great', 'go', 'missing', 'breadcrumbs', 'time', 'custom', 'print', 'form', 'running'}\n",
      "['If', 'Logging', 'On', 'Python’s', 'These', 'a', 'and', 'any', 'at', 'breadcrumbs', 'call', 'can', 'code', 'create', 'custom', 'debug', 'describe', 'easy', 'ever', 'executed', 'execution', 'figure', 'form', 'function', 'go', 'great', 'hand', 'happening', 'has', 'help', 'in', 'indicates', 'is', 'it', 'it’s', 'list', 'log', 'logging', 'makes', 'mes', 'message', 'messages', 'missing', 'module', 'never', 'of', 'order', 'other', 'out', 'output', 'part', 'point', 'print', 'program', 'providing', 'put', 'reached', 'record', 'running', 'sages', 'skipped', 'some', 'specified', 'started', 'that', 'the', 'things', 'time', 'to', 'trail', 'understand', 'used', 'value', 'variables', 'variable’s', 'was', 'way', 'what', 'what’s', 'when', 'while', 'will', 'write', 'wrong', 'you', 'your', 'you’ve']\n",
      "great is included\n",
      "greater is not included\n",
      "<ul>\n",
      "  <li>If</li>\n",
      "  <li>Logging</li>\n",
      "  <li>On</li>\n",
      "  <li>Python’s</li>\n",
      "  <li>These</li>\n",
      "  <li>a</li>\n",
      "  <li>and</li>\n",
      "  <li>any</li>\n",
      "  <li>at</li>\n",
      "  <li>breadcrumbs</li>\n",
      "</ul>\n",
      "['\\nIf', 'you’ve', 'ever', 'put', 'a', 'print()', 'function', 'in', 'your', 'code', 'to', 'output', 'some', 'variable’s\\nvalue', 'while', 'your', 'program', 'is', 'running,', 'you’ve', 'used', 'a', 'form', 'of', 'logging', 'to', 'debug', 'your\\ncode.', 'Logging', 'is', 'a', 'great', 'way', 'to', 'understand', 'what’s', 'happening', 'in', 'your', 'program', 'and\\nin', 'what', 'order', 'it’s', 'happening.', 'Python’s', 'logging', 'module', 'makes', 'it', 'easy', 'to', 'create', 'a\\nrecord', 'of', 'custom', 'messages', 'that', 'you', 'write.', 'These', 'log', 'mes-', 'sages', 'will', 'describe\\nwhen', 'the', 'program', 'execution', 'has', 'reached', 'the', 'logging', 'function', 'call', 'and', 'will', 'list\\nany', 'variables', 'you’ve', 'specified', 'at', 'that', 'point', 'in', 'time,', 'providing', 'a', 'trail', 'of\\nbreadcrumbs', 'that', 'can', 'help', 'you', 'figure', 'out', 'when', 'things', 'started', 'to', 'go', 'wrong.', 'On', 'the\\nother', 'hand,', 'a', 'missing', 'log', 'message', 'indicates', 'a', 'part', 'of', 'the', 'code', 'was', 'skipped', 'and\\nnever', 'executed.\\n']\n"
     ]
    }
   ],
   "source": [
    "text=\"\"\"\n",
    "If you’ve ever put a print() function in your code to output some variable’s\n",
    "value while your program is running, you’ve used a form of logging to debug your\n",
    "code. Logging is a great way to understand what’s happening in your program and\n",
    "in what order it’s happening. Python’s logging module makes it easy to create a\n",
    "record of custom messages that you write. These log mes- sages will describe\n",
    "when the program execution has reached the logging function call and will list\n",
    "any variables you’ve specified at that point in time, providing a trail of\n",
    "breadcrumbs that can help you figure out when things started to go wrong. On the\n",
    "other hand, a missing log message indicates a part of the code was skipped and\n",
    "never executed.\n",
    "\"\"\"\n",
    "\n",
    "import re\n",
    "\n",
    "words = re.findall(r'\\b[a-zA-Z\\’]+\\b', text)\n",
    "print(words)\n",
    "words.sort()\n",
    "print(words)\n",
    "unique_words = set(words)\n",
    "print(unique_words)\n",
    "sorted_words = list(unique_words)\n",
    "sorted_words.sort()\n",
    "print(sorted_words)\n",
    "\n",
    "if \"great\" in words:\n",
    "    print(\"great is included\")\n",
    "\n",
    "if \"greater\" in words:\n",
    "    print(\"greater is included\")\n",
    "else:\n",
    "    print(\"greater is not included\")\n",
    "\n",
    "new_words = sorted_words[:10]\n",
    "html_lst = \"<ul>\\n  <li>\"\n",
    "html_txt = \"</li>\\n  <li>\".join(new_words)\n",
    "html_lst += html_txt\n",
    "html_lst += \"</li>\\n</ul>\"\n",
    "print(html_lst)\n",
    "\n",
    "new_words = text.split(\" \")\n",
    "print(new_words)"
   ]
  },
  {
   "cell_type": "code",
   "execution_count": 22,
   "id": "687ba2c8-f167-4edf-9e0c-97d2fca05ffa",
   "metadata": {},
   "outputs": [
    {
     "name": "stdout",
     "output_type": "stream",
     "text": [
      "[0, 1, 2, 3, 4, 5, 6, 7, 8, 9]\n",
      "[100, 1, 2]\n",
      "[0, 1, 2, 3, 4, 5, 6, 7, 8, 9]\n"
     ]
    }
   ],
   "source": [
    "ll=list(range(10))\n",
    "print(ll)\n",
    "nl=ll[:3]\n",
    "nl[0]=100\n",
    "print(nl)\n",
    "print(ll)"
   ]
  },
  {
   "cell_type": "code",
   "execution_count": 107,
   "id": "3ecf2e56-e4f8-40cd-8a2b-172c126d9837",
   "metadata": {},
   "outputs": [
    {
     "name": "stdout",
     "output_type": "stream",
     "text": [
      "                                                                      \n",
      "                                                                      \n",
      "                                                    1                 \n",
      "                      1                             1                 \n",
      "                      0 1                           0    0            \n",
      "                      1 0                           1    1            \n",
      "                      1 0                                0  0         \n",
      "                      1 0  0                             0  0         \n",
      "                      0 0  1              0                 0         \n",
      "                      0 1  0              1                 1         \n",
      "                      0 1  1              0                 1         \n",
      "                      0 0  1              1             1   0         \n",
      "                      1    0              1        0    1   1         \n",
      "                     10    0              1        1    1             \n",
      "                     00    0              0        0    0             \n",
      "                     1     0              0       11    0             \n",
      "                     1     0  1           1       00    1            0\n",
      "                     1     0  1           1       00    0            1\n",
      "                     1     1  1           1       00    1            0\n",
      "                     1        0           0       10    1            0\n",
      "                     1        1           1       11    0             \n",
      "                     1        0           1       00    0             \n",
      "                     0        0           0       1   0               \n",
      "                          1   0           1       1   0               \n",
      "                 1        1   0                   0   0               \n",
      "                 0        1                 1         1               \n",
      "                 1        1                 1         1               \n",
      "                 0        0                 0                         \n",
      "                 0        1                 1     1             1     \n",
      "                 0        1                 1     1             1     \n",
      "                 1        1     0           0     1            01     \n",
      "                 0        1     0           0     1            10     \n",
      "            0    1        1     1           0     1            11     \n",
      "            0    1              1              1  0            0      \n",
      "            0 0  1              0              1  1    1              \n",
      "            0 0  0 1            0              0  1    0              \n",
      "            1 1    0            0          0   0  1    0              \n",
      "        1   1 0    1            1          0   0       1              \n",
      "       11   0 1    0            0          0   1                      \n",
      "       11   1 0    0            1          0   0                      \n",
      "       00   0 1    1            1          0   0   1                  \n",
      "       10   0      1            1          1   0   1                  \n",
      "       10   1      1   1                   1   0   0                  \n",
      "       01   1      0   1       0           0       1                  \n",
      "       00  11      1   0    1  1           0       0                  \n",
      "       11  10      1   0    0  1           1       0                  \n",
      "       11  0       0   0    0  0                   0                  \n",
      "       10  0                0                      0                  \n",
      "   1   00  1 1              0                      1                  \n"
     ]
    }
   ],
   "source": [
    "import random, sys, time\n",
    "             \n",
    "WIDTH = 70  # The number of columns\n",
    "start = time.time()\n",
    "timeout = 5\n",
    "try:\n",
    "     # For each column, when the counter is 0, no stream is shown.\n",
    "     # Otherwise, it acts as a counter for how many times a 1 or 0\n",
    "     # should be displayed in that column.\n",
    "     columns = [0] * WIDTH\n",
    "     while True:\n",
    "         # Loop over each column:\n",
    "         for i in range(WIDTH):\n",
    "             if random.random() < 0.02:\n",
    "                 # Restart a stream counter on this column.\n",
    "                 # The stream length is between 4 and 14 characters long.\n",
    "                 columns[i] = random.randint(4, 14)\n",
    "             # Print a character in this column:\n",
    "             if columns[i] == 0:\n",
    "                 # Change this ' '' to '.' to see the empty spaces:\n",
    "                 print(' ', end='')\n",
    "             else:\n",
    "                 # Print a 0 or 1:\n",
    "                 print(random.choice([0, 1]), end='')\n",
    "                 columns[i] -= 1  # Decrement the counter for this column.\n",
    "         print()  # Print a newline at the end of the row of columns.\n",
    "         time.sleep(0.1)  # Each row pauses for one tenth of a second.\n",
    "    \n",
    "         if (time.time() - start > timeout):\n",
    "             break    \n",
    "except KeyboardInterrupt:\n",
    "    sys.exit()  # When Ctrl-C is pressed, end the program."
   ]
  },
  {
   "cell_type": "code",
   "execution_count": 75,
   "id": "181c01ad-b265-4ce9-961e-f448f705d693",
   "metadata": {},
   "outputs": [
    {
     "name": "stdout",
     "output_type": "stream",
     "text": [
      "[0, 0, 0, 0, 0, 0, 0, 0, 0, 0]\n",
      "[1, 0, 0, 0, 0, 0, 0, 0, 0, 0]\n",
      "[0, 0, 0, 0, 0, 0, 0, 0, 0, 0]\n",
      "[0, 0, 0, 0, 0, 0, 0, 0, 0, 0, 1, 0, 0, 0, 0, 0, 0, 0, 0, 0]\n",
      "[0, 1, 2, 3, 4, 5, 6, 7, 8, 9]\n",
      "[0, 1, 3, 4, 5, 6, 7, 8, 9]\n",
      "[0, 1, 3, 4, 5, 6, 7, 9]\n",
      "[0, [0, 1, 3, 4, 5, 6, 7, 9], 0, 0, 0, 0, 0, 0, 0, 0, 1, 0, 0, 0, 0, 0, 0, 0, 0, 0]\n",
      "[0, [99, 1, 3, 4, 5, 6, 7, 9], 0, 0, 0, 0, 0, 0, 0, 0, 1, 0, 0, 0, 0, 0, 0, 0, 0, 0]\n",
      "[1, [99, 1, 3, 4, 5, 6, 7, 9], 0, 0, 0, 0, 0, 0, 0, 0, 1, 0, 0, 0, 0, 0, 0, 0, 0, 0]\n",
      "[0, [0, 1, 3, 4, 5, 6, 7, 9], 0, 0, 0, 0, 0, 0, 0, 0, 1, 0, 0, 0, 0, 0, 0, 0, 0, 0]\n"
     ]
    }
   ],
   "source": [
    "c=[0]*10\n",
    "print(c)\n",
    "d=c[:]\n",
    "d[0]=1\n",
    "print(d)\n",
    "print(c)\n",
    "e=c+d\n",
    "print(e)\n",
    "\n",
    "# list element removal\n",
    "f=list(range(10))\n",
    "print(f)\n",
    "del f[2]\n",
    "print(f)\n",
    "f.remove(8)\n",
    "print(f)\n",
    "\n",
    "# list copy\n",
    "import copy\n",
    "e[1]=f\n",
    "print(e)\n",
    "g=copy.copy(e)\n",
    "h=copy.deepcopy(e)\n",
    "g[0]=1\n",
    "g[1][0]=99 # change e as well, copy only goes to first level, and rest levels are just references\n",
    "print(e)\n",
    "print(g)\n",
    "print(h)"
   ]
  },
  {
   "cell_type": "code",
   "execution_count": 89,
   "id": "4b4f00a7-223d-4539-884a-c63cf08b2be2",
   "metadata": {},
   "outputs": [
    {
     "name": "stdout",
     "output_type": "stream",
     "text": [
      "akey not exist\n",
      "hoho\n",
      "akey is a value\n",
      "{'ak': 'akey', 'b': 'blahblahblahblahblahblahblahblahblahblah', 'ck': [{'cak': 1, 'cbk': 2}]}\n",
      "{'ak': 'akey',\n",
      " 'b': 'blahblahblahblahblahblahblahblahblahblah',\n",
      " 'ck': [{'cak': 1, 'cbk': 2}]}\n",
      "{'name': 'Alice', 'age': 25, 'address': {'city': 'New York', 'zip': '10001'}, 'hobbies': ['reading', 'cycling', 'hiking']}\n",
      "{'address': {'city': 'New York', 'zip': '10001'},\n",
      " 'age': 25,\n",
      " 'hobbies': ['reading', 'cycling', 'hiking'],\n",
      " 'name': 'Alice'}\n"
     ]
    }
   ],
   "source": [
    "a={\"ak\": \"akey\", \n",
    "   \"b\": \"blah\"*10,\n",
    "  \"ck\": [\n",
    "      {\"cak\": 1,\n",
    "      \"cbk\": 2\n",
    "      }\n",
    "  ]}\n",
    "if 'akey' in a:\n",
    "    print(\"ok, it's there\")\n",
    "else:\n",
    "    print(\"akey not exist\")\n",
    "print(a.get(\"akey\", \"hoho\"))\n",
    "\n",
    "if 'akey' in a.values():\n",
    "    print(\"akey is a value\")\n",
    "else:\n",
    "    print(\"akey is not a value\")\n",
    "\n",
    "from pprint import pprint\n",
    "print(a)\n",
    "pprint(a)\n",
    "\n",
    "data = {\n",
    "    \"name\": \"Alice\",\n",
    "    \"age\": 25,\n",
    "    \"address\": {\"city\": \"New York\", \"zip\": \"10001\"},\n",
    "    \"hobbies\": [\"reading\", \"cycling\", \"hiking\"]\n",
    "}\n",
    "print(data)\n",
    "pprint(data)"
   ]
  },
  {
   "cell_type": "code",
   "execution_count": 96,
   "id": "fb11f8c7-4302-4ccb-9950-9265886915f9",
   "metadata": {},
   "outputs": [
    {
     "name": "stdout",
     "output_type": "stream",
     "text": [
      "The file is in 'C:\\Users\\Alice\\Desktop'\n",
      "The file is in \"C:\\Users\\Alice\\Desktop\"\n"
     ]
    }
   ],
   "source": [
    "print(r\"The file is in 'C:\\Users\\Alice\\Desktop'\")\n",
    "print(r'The file is in \"C:\\Users\\Alice\\Desktop\"')"
   ]
  },
  {
   "cell_type": "code",
   "execution_count": 121,
   "id": "dcc0865b-5353-4736-b050-5578caf3bd1c",
   "metadata": {},
   "outputs": [
    {
     "name": "stdout",
     "output_type": "stream",
     "text": [
      ">>>>>12345\n",
      "=============================== this is a banner ===============================\n"
     ]
    }
   ],
   "source": [
    "print(\"12345\".rjust(10,'>'))\n",
    "print(\" this is a banner \".center(80, '='))"
   ]
  },
  {
   "cell_type": "code",
   "execution_count": 125,
   "id": "62451df7-663c-42d8-b64b-7d5f1ed98589",
   "metadata": {},
   "outputs": [
    {
     "name": "stdout",
     "output_type": "stream",
     "text": [
      "BaconSpamEggs\n",
      "SpamSpamBaconSpamEggsSpamS\n"
     ]
    }
   ],
   "source": [
    "spam = 'SpamSpamBaconSpamEggsSpamSpam'\n",
    "print(spam.strip(\"ampS\")) # strip any of [ampS] from left and right ends\n",
    "print(spam.strip(\"amps\"))"
   ]
  },
  {
   "cell_type": "code",
   "execution_count": 139,
   "id": "c2df6f65-9a97-4f3a-9432-b2a8fe1cf978",
   "metadata": {},
   "outputs": [
    {
     "name": "stdout",
     "output_type": "stream",
     "text": [
      "['This', 'is', 'a', 'normal', 'text', 'And', 'yes', 'a', 'very', 'great', 'boring', 'text']\n",
      "isThay\n",
      "isyay\n",
      "ayay\n",
      "ormalnay\n",
      "exttay\n",
      "Anday\n",
      "yesyay\n",
      "ayay\n",
      "eryvay\n",
      "eatgray\n",
      "oringbay\n",
      "exttay\n",
      "isThay isyay ayay ormalnay exttay Anday yesyay ayay eryvay eatgray oringbay exttay\n"
     ]
    }
   ],
   "source": [
    "# pig latin\n",
    "import re\n",
    "\n",
    "text = \"\"\"This is a normal text\n",
    "And yes, a very great boring text\"\"\"\n",
    "vowels = [\"a\", \"e\", \"i\", \"u\", \"o\", \"y\"]\n",
    "\n",
    "words = re.findall(r'\\b[a-zA-Z]+\\b', text)\n",
    "print(words)\n",
    "\n",
    "new_words = []\n",
    "for w in words:\n",
    "    chs = list(w)\n",
    "    cls = \"\"\n",
    "    for ch in chs:\n",
    "        if ch in vowels:\n",
    "            break\n",
    "        else:\n",
    "            cls += ch\n",
    "\n",
    "    if len(cls) == 0:        \n",
    "        w += \"yay\"\n",
    "        print(w)\n",
    "        new_words.append(w)\n",
    "    else:\n",
    "        new_w = w[len(cls):] + cls + \"ay\"\n",
    "        print(new_w)\n",
    "        new_words.append(new_w)\n",
    "\n",
    "print(' '.join(new_words))\n",
    "        "
   ]
  },
  {
   "cell_type": "code",
   "execution_count": 209,
   "id": "1e7ec825-c2fc-478a-b085-c6e3e00755a8",
   "metadata": {},
   "outputs": [
    {
     "name": "stdout",
     "output_type": "stream",
     "text": [
      "<re.Match object; span=(0, 17), match='test@email.hohoho'>\n",
      "test\n",
      "email\n",
      "hohoho\n",
      "group(0) is test@email.hohoho\n",
      "name: test, company: email, gtld: hohoho\n",
      "[('test', 'email.google', 'com'), ('another', 'chatgpt', 'com')]\n",
      "name: test, company: google, gtld: com\n",
      "name: another, company: chatgpt, gtld: com\n",
      "find ['A', 'B']\n",
      "change to A**** contacted B****.\n"
     ]
    }
   ],
   "source": [
    "import re\n",
    "\n",
    "email_re = re.compile(r'(\\w+)@([\\w\\.]+)\\.(\\w+)')\n",
    "email_addr = \"test@email.hohoho-google.com\"\n",
    "\n",
    "matched = email_re.search(email_addr)\n",
    "print(matched)\n",
    "for m in matched.groups():\n",
    "    print(m)\n",
    "print(f\"group(0) is {matched.group(0)}\")\n",
    "\n",
    "if len(matched.groups()) == 3:\n",
    "    name, company, gtld = matched.groups()\n",
    "    print(f\"name: {name}, company: {company.split('.')[-1]}, gtld: {gtld}\")\n",
    "\n",
    "multi_addr = \"test@email.google.com, another@chatgpt.com\"\n",
    "all_matched = email_re.findall(multi_addr)\n",
    "print(all_matched)\n",
    "for m in all_matched:\n",
    "    if len(m) == 3:\n",
    "        name, company, gtld = m\n",
    "        print(f\"name: {name}, company: {company.split('.')[-1]}, gtld: {gtld}\")\n",
    "    else:\n",
    "        print(m)\n",
    "\n",
    "txt=\"Agent Alice contacted Agent Bob.\"\n",
    "agent_pattern = re.compile(r'Agent (\\w)\\w*')\n",
    "m1=agent_pattern.findall(txt)\n",
    "print(f\"find {m1}\")\n",
    "m2=agent_pattern.sub(r'\\1****', txt)\n",
    "print(f\"change to {m2}\")"
   ]
  },
  {
   "cell_type": "code",
   "execution_count": 210,
   "id": "09ebad64-f062-4752-8401-de5ac949dbbf",
   "metadata": {},
   "outputs": [
    {
     "name": "stdout",
     "output_type": "stream",
     "text": [
      "8\n",
      "[27, 8, 8, 66, 17, 43, 43, 5, 12, 4, 34, 40, 1, 1, 29, 32, 10, 3, 73, 68]\n",
      "[729, 64, 64, 4356, 289, 1849, 1849, 25, 144, 16, 1156, 1600, 1, 1, 841, 1024, 100, 9, 5329, 4624]\n",
      "[27, 66, 12, 3]\n"
     ]
    }
   ],
   "source": [
    "add = lambda a, b: a+b\n",
    "print(add(3,5))\n",
    "\n",
    "import random\n",
    "rl = [random.randint(1,100) for _ in range(20)]\n",
    "print(rl)\n",
    "rl2 = list(map(lambda x: x**2, rl))\n",
    "print(rl2)\n",
    "rl3 = list(filter(lambda x: x % 3 == 0, rl))\n",
    "print(rl3)"
   ]
  },
  {
   "cell_type": "code",
   "execution_count": 211,
   "id": "5a45223b-d917-4490-b1ec-b3977e3fd2ff",
   "metadata": {},
   "outputs": [
    {
     "name": "stdout",
     "output_type": "stream",
     "text": [
      "animal name is cute\n",
      "dog cute is barking\n",
      "animal cute is eating\n",
      "dog cute is eating its banana\n",
      "animal name is cute\n",
      "animal cute is eating\n",
      "True\n",
      "True\n"
     ]
    }
   ],
   "source": [
    "class Animal:\n",
    "    def __init__(self, name):\n",
    "        self.name = name\n",
    "        print(f\"animal name is {name}\")\n",
    "\n",
    "    def eat(self):\n",
    "        print(f\"animal {self.name} is eating\")\n",
    "\n",
    "class Dog(Animal):\n",
    "    def __init__(self, name, age):\n",
    "        super().__init__(name)\n",
    "        self.age = age\n",
    "\n",
    "    def bark(self):\n",
    "        print(f\"dog {self.name} is barking\")\n",
    "\n",
    "    def eat(self, food):\n",
    "        super().eat()\n",
    "        print(f\"dog {self.name} is eating its {food}\")\n",
    "\n",
    "a=Dog(\"cute\", 4)\n",
    "a.bark()\n",
    "a.eat(\"banana\")\n",
    "Animal(a.name).eat() # actually, here create a new instance of Animal\n",
    "print(isinstance(a, Dog))\n",
    "print(isinstance(a, Animal))"
   ]
  }
 ],
 "metadata": {
  "kernelspec": {
   "display_name": "Python 3 (ipykernel)",
   "language": "python",
   "name": "python3"
  },
  "language_info": {
   "codemirror_mode": {
    "name": "ipython",
    "version": 3
   },
   "file_extension": ".py",
   "mimetype": "text/x-python",
   "name": "python",
   "nbconvert_exporter": "python",
   "pygments_lexer": "ipython3",
   "version": "3.13.2"
  }
 },
 "nbformat": 4,
 "nbformat_minor": 5
}
