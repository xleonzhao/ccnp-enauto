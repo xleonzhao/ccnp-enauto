{
 "cells": [
  {
   "cell_type": "code",
   "execution_count": 5,
   "id": "f004f261-a7e1-4eca-b517-ce1fc5832bc6",
   "metadata": {},
   "outputs": [
    {
     "name": "stdout",
     "output_type": "stream",
     "text": [
      "search string is uninstall airflow\n"
     ]
    }
   ],
   "source": [
    "import webbrowser\n",
    "import pyperclip\n",
    "\n",
    "search=pyperclip.paste()\n",
    "print(f\"search string is {search}\")\n",
    "#if search is None:\n",
    "#    webbrowser.open(\"https://www.google.com\")\n",
    "#else:\n",
    "#    webbrowser.open(f\"http://www.google.com/search?q={search}\")\n",
    "\n",
    "# d b d d d d d c d b\n",
    "# d b a d b d d c d b\n",
    "#     3   5\n",
    "\n",
    "# d d a d d d c d c d d d\n",
    "# d d a d b d c d a d d d\n",
    "#         5       9\n",
    "\n",
    "# d d c a e "
   ]
  },
  {
   "cell_type": "code",
   "execution_count": 26,
   "id": "5738ccb3-5502-4d77-bdee-8a8ae0ea8fb3",
   "metadata": {},
   "outputs": [
    {
     "name": "stdout",
     "output_type": "stream",
     "text": [
      "8\n",
      "[24, 14, 50, 27, 11, 88, 34, 58, 26, 56, 50, 23, 100, 98, 56, 53, 42, 98, 6, 86]\n",
      "[576, 196, 2500, 729, 121, 7744, 1156, 3364, 676, 3136, 2500, 529, 10000, 9604, 3136, 2809, 1764, 9604, 36, 7396]\n",
      "[24, 27, 42, 6]\n"
     ]
    }
   ],
   "source": [
    "add = lambda a, b: a+b\n",
    "print(add(3,5))\n",
    "\n",
    "import random\n",
    "rl = [random.randint(1,100) for _ in range(20)]\n",
    "print(rl)\n",
    "rl2 = list(map(lambda x: x**2, rl))\n",
    "print(rl2)\n",
    "rl3 = list(filter(lambda x: x % 3 == 0, rl))\n",
    "print(rl3)"
   ]
  },
  {
   "cell_type": "code",
   "execution_count": 30,
   "id": "2872bd54-e73b-474a-bf74-828f6168b9e8",
   "metadata": {},
   "outputs": [
    {
     "name": "stdin",
     "output_type": "stream",
     "text": [
      "Enter a number:  1\n"
     ]
    },
    {
     "name": "stdout",
     "output_type": "stream",
     "text": [
      "x is 1\n"
     ]
    }
   ],
   "source": [
    "x=0\n",
    "try:\n",
    "  x = int(input(\"Enter a number: \"))\n",
    "except ValueError:\n",
    "  print(\"That's not a number!\")\n",
    "finally:\n",
    "  print(f\"x is {x}\")\n"
   ]
  }
 ],
 "metadata": {
  "kernelspec": {
   "display_name": "Python 3 (ipykernel)",
   "language": "python",
   "name": "python3"
  },
  "language_info": {
   "codemirror_mode": {
    "name": "ipython",
    "version": 3
   },
   "file_extension": ".py",
   "mimetype": "text/x-python",
   "name": "python",
   "nbconvert_exporter": "python",
   "pygments_lexer": "ipython3",
   "version": "3.13.2"
  }
 },
 "nbformat": 4,
 "nbformat_minor": 5
}
