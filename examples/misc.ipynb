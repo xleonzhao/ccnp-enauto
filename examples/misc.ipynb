{
 "cells": [
  {
   "cell_type": "markdown",
   "metadata": {},
   "source": [
    "# setup\n",
    "\n",
    "first, we need setup vscode and python environment to run this notebook.\n",
    "\n",
    "## On local PC\n",
    "\n",
    "* we need install miniconda and setup a virtual environment for this learning activities.\n",
    "  * `conda create --name=learn python=3.13`\n",
    "* then install `ipykernel`\n",
    "  * `which pip`\n",
    "  * `pip install ipykernel`\n",
    "\n",
    "## On VS Code\n",
    "\n",
    "* we need `python` and `jupyter` extension from microsoft.\n",
    "* Go to the Extensions view by clicking on the icon on the sidebar or pressing Ctrl+Shift+X (Windows/Linux) or Cmd+Shift+X (macOS).\n",
    "* Search for and install:\n",
    "  * \"Jupyter\" extension by Microsoft. This enables Jupyter notebook integration.\n",
    "  * \"Python\" extension by Microsoft for enhanced Python support.\n",
    "* Set Up Your Environment:\n",
    "  * Open the Command Palette (Ctrl+Shift+P or Cmd+Shift+P).\n",
    "  * Type \"Configure Python\" and select \"Python: Set Default Interpreter Path.\"\n",
    "  * Choose the location of your Python interpreter or specify it manually.\n",
    "* Create a New Jupyter Notebook:\n",
    "  * create a new file with a .ipynb extension.\n",
    "  * You can start coding and run cells using Ctrl+Enter to execute the current cell or Shift+Enter to run and move to the next cell."
   ]
  },
  {
   "cell_type": "markdown",
   "metadata": {},
   "source": [
    "# Generators\n",
    "\n",
    "* Any function with a `yield` is a generator\n",
    "  *  The `yield` keyword pauses the current execution by saving its states and then resumes from the same when required.\n",
    "* Generators are memory efficient as they generate items on-the-fly"
   ]
  },
  {
   "cell_type": "code",
   "execution_count": 36,
   "metadata": {},
   "outputs": [
    {
     "name": "stdout",
     "output_type": "stream",
     "text": [
      "<class 'generator'>\n",
      "calling fib\n",
      "init a and b\n",
      "before yield\n",
      "0\n",
      "done this iteration\n",
      "\n",
      "calling fib\n",
      "after yield, updating a and b\n",
      "a and b updated. loop again\n",
      "before yield\n",
      "1\n",
      "done this iteration\n",
      "\n",
      "calling fib\n",
      "after yield, updating a and b\n",
      "a and b updated. loop again\n",
      "before yield\n",
      "1\n",
      "done this iteration\n",
      "\n",
      "calling fib\n",
      "after yield, updating a and b\n",
      "a and b updated. loop again\n",
      "before yield\n",
      "2\n",
      "done this iteration\n",
      "\n"
     ]
    }
   ],
   "source": [
    "def fibonacci():\n",
    "    print(\"init a and b\")\n",
    "    a, b = 0, 1\n",
    "\n",
    "    while True:\n",
    "        print(\"before yield\")\n",
    "        yield a\n",
    "        print(\"after yield, updating a and b\")\n",
    "        a, b = b, a + b\n",
    "        print(\"a and b updated. loop again\")\n",
    "\n",
    "fib = fibonacci()\n",
    "print(type(fib))\n",
    "for _ in range(4):\n",
    "    print(\"calling fib\")\n",
    "    print(next(fib))\n",
    "    print(\"done this iteration\\n\")"
   ]
  },
  {
   "cell_type": "code",
   "execution_count": 34,
   "metadata": {},
   "outputs": [
    {
     "name": "stdout",
     "output_type": "stream",
     "text": [
      "example of using generator to read file line by line\n",
      "\n",
      "# yielding a single line\n",
      "import paramiko\n",
      "# yielding a single line\n",
      "import time\n",
      "# previous yielded two lines in chunk, yielding the chunk\n",
      "import paramiko\n",
      "import time\n",
      "inserted line for fun\n",
      "# yielding a single line\n",
      "import random\n",
      "# yielding a single line\n",
      "from retrying import retry\n",
      "# previous yielded two lines in chunk, yielding the chunk\n",
      "import random\n",
      "from retrying import retry\n",
      "inserted line for fun\n",
      "# yielding a single line\n",
      "from timeout_decorator import timeout\n",
      "# yielding a single line\n",
      "\n",
      "# previous yielded two lines in chunk, yielding the chunk\n",
      "from timeout_decorator import timeout\n",
      "inserted line for fun\n",
      "# yielding a single line\n",
      "# SSH credentials\n",
      "# yielding a single line\n",
      "HOST = \"192.168.4.64\"\n",
      "# previous yielded two lines in chunk, yielding the chunk\n",
      "# SSH credentials\n",
      "HOST = \"192.168.4.64\"\n",
      "inserted line for fun\n",
      "# yielding a single line\n",
      "USERNAME = \"xzhao2\"\n",
      "# yielding a single line\n",
      "PASSWORD = \"clover\"\n",
      "# previous yielded two lines in chunk, yielding the chunk\n",
      "USERNAME = \"xzhao2\"\n",
      "PASSWORD = \"clover\"\n",
      "inserted line for fun\n",
      "# yielding a single line\n",
      "COMMAND = \"sleep 8\"  # Example command to run on the remote machine\n",
      "# yielding a single line\n",
      "\n",
      "# previous yielded two lines in chunk, yielding the chunk\n",
      "COMMAND = \"sleep 8\"  # Example command to run on the remote machine\n",
      "inserted line for fun\n",
      "# yielding a single line\n",
      "# Retry decorator: Retries up to 3 times, waiting 2 seconds between attempts\n",
      "# yielding a single line\n",
      "@retry(stop_max_attempt_number=3, wait_fixed=2000)\n",
      "# previous yielded two lines in chunk, yielding the chunk\n",
      "# Retry decorator: Retries up to 3 times, waiting 2 seconds between attempts\n",
      "@retry(stop_max_attempt_number=3, wait_fixed=2000)\n",
      "inserted line for fun\n",
      "# yielding a single line\n",
      "# Timeout decorator: If the function takes longer than 5 seconds, it raises an error\n",
      "# yielding a single line\n",
      "@timeout(5)\n",
      "# previous yielded two lines in chunk, yielding the chunk\n",
      "# Timeout decorator: If the function takes longer than 5 seconds, it raises an error\n",
      "@timeout(5)\n",
      "inserted line for fun\n",
      "# yielding a single line\n",
      "def ssh_connect_and_run():\n",
      "# yielding a single line\n",
      "print(f\"Attempting SSH connection to {HOST}...\")\n",
      "# previous yielded two lines in chunk, yielding the chunk\n",
      "def ssh_connect_and_run():\n",
      "    print(f\"Attempting SSH connection to {HOST}...\")\n",
      "inserted line for fun\n",
      "# yielding a single line\n",
      "\n",
      "# yielding a single line\n",
      "client = paramiko.SSHClient()\n",
      "# previous yielded two lines in chunk, yielding the chunk\n",
      "client = paramiko.SSHClient()\n",
      "inserted line for fun\n",
      "# yielding a single line\n",
      "client.set_missing_host_key_policy(paramiko.AutoAddPolicy())\n",
      "# yielding a single line\n",
      "\n",
      "# previous yielded two lines in chunk, yielding the chunk\n",
      "client.set_missing_host_key_policy(paramiko.AutoAddPolicy())\n",
      "inserted line for fun\n",
      "# yielding a single line\n",
      "try:\n",
      "# yielding a single line\n",
      "# Simulate random failures for testing purposes\n",
      "# previous yielded two lines in chunk, yielding the chunk\n",
      "try:\n",
      "        # Simulate random failures for testing purposes\n",
      "inserted line for fun\n",
      "# yielding a single line\n",
      "if random.choice([True, False]):\n",
      "# yielding a single line\n",
      "raise ConnectionError(\"Simulated network issue, retrying...\")\n",
      "# previous yielded two lines in chunk, yielding the chunk\n",
      "if random.choice([True, False]):\n",
      "            raise ConnectionError(\"Simulated network issue, retrying...\")\n",
      "inserted line for fun\n",
      "# yielding a single line\n",
      "\n",
      "# yielding a single line\n",
      "# Establish SSH connection\n",
      "# previous yielded two lines in chunk, yielding the chunk\n",
      "# Establish SSH connection\n",
      "inserted line for fun\n",
      "# yielding a single line\n",
      "client.connect(HOST, username=USERNAME, password=PASSWORD)\n",
      "# yielding a single line\n",
      "print(\"SSH connection successful!\")\n",
      "# previous yielded two lines in chunk, yielding the chunk\n",
      "client.connect(HOST, username=USERNAME, password=PASSWORD)\n",
      "        print(\"SSH connection successful!\")\n",
      "inserted line for fun\n",
      "# yielding a single line\n",
      "\n",
      "# yielding a single line\n",
      "# Execute a command\n",
      "# previous yielded two lines in chunk, yielding the chunk\n",
      "# Execute a command\n",
      "inserted line for fun\n",
      "# yielding a single line\n",
      "stdin, stdout, stderr = client.exec_command(COMMAND)\n",
      "# yielding a single line\n",
      "output = stdout.read().decode()\n",
      "# previous yielded two lines in chunk, yielding the chunk\n",
      "stdin, stdout, stderr = client.exec_command(COMMAND)\n",
      "        output = stdout.read().decode()\n",
      "inserted line for fun\n",
      "# yielding a single line\n",
      "print(f\"Command output:\\n{output}\")\n",
      "# yielding a single line\n",
      "\n",
      "# previous yielded two lines in chunk, yielding the chunk\n",
      "print(f\"Command output:\\n{output}\")\n",
      "inserted line for fun\n",
      "# yielding a single line\n",
      "return output\n",
      "# yielding a single line\n",
      "except Exception as e:\n",
      "# previous yielded two lines in chunk, yielding the chunk\n",
      "return output\n",
      "    except Exception as e:\n",
      "inserted line for fun\n",
      "# yielding a single line\n",
      "print(f\"SSH error: {e}\")\n",
      "# yielding a single line\n",
      "raise  # Ensure the retry decorator catches this error and retries\n",
      "# previous yielded two lines in chunk, yielding the chunk\n",
      "print(f\"SSH error: {e}\")\n",
      "        raise  # Ensure the retry decorator catches this error and retries\n",
      "inserted line for fun\n",
      "# yielding a single line\n",
      "finally:\n",
      "# yielding a single line\n",
      "client.close()\n",
      "# previous yielded two lines in chunk, yielding the chunk\n",
      "finally:\n",
      "        client.close()\n",
      "inserted line for fun\n",
      "# yielding a single line\n",
      "\n",
      "# yielding a single line\n",
      "# Running the function\n",
      "# previous yielded two lines in chunk, yielding the chunk\n",
      "# Running the function\n",
      "inserted line for fun\n",
      "# yielding a single line\n",
      "try:\n",
      "# yielding a single line\n",
      "result = ssh_connect_and_run()\n",
      "# previous yielded two lines in chunk, yielding the chunk\n",
      "try:\n",
      "    result = ssh_connect_and_run()\n",
      "inserted line for fun\n",
      "# yielding a single line\n",
      "print(\"SSH Task Completed Successfully!\")\n",
      "# yielding a single line\n",
      "except Exception as e:\n",
      "# previous yielded two lines in chunk, yielding the chunk\n",
      "print(\"SSH Task Completed Successfully!\")\n",
      "except Exception as e:\n",
      "inserted line for fun\n",
      "# yielding a single line\n",
      "print(f\"SSH Operation failed: {e}\")\n"
     ]
    }
   ],
   "source": [
    "def read_lines(file_path):\n",
    "    with open(file_path, 'r') as file:\n",
    "        count = 0\n",
    "        chunk = []\n",
    "        for line in file:\n",
    "            print(\"# yielding a single line\")\n",
    "            yield line.strip()\n",
    "\n",
    "            chunk.append(line)\n",
    "            count += 1\n",
    "            if count == 2:\n",
    "                print(\"# previous yielded two lines in chunk, yielding the chunk\")\n",
    "                yield ''.join(chunk).strip()\n",
    "                count = 0\n",
    "                chunk = []\n",
    "\n",
    "                yield \"inserted line for fun\"\n",
    "\n",
    "# Usage:\n",
    "print(\"example of using generator to read file line by line\")\n",
    "print()\n",
    "for line in read_lines('./conn.py'):\n",
    "    print(line)\n"
   ]
  },
  {
   "cell_type": "markdown",
   "metadata": {},
   "source": [
    "# Scope\n",
    "\n",
    "ok, let's continue. Python is a pass-by-reference type of language, means the arguments can be altered inside the function because they are basically references to the objects.\n",
    "\n",
    "* Mutable objects (like lists or dictionaries) can be modified within the function.\n",
    "* Immutable objects (like integers or strings) cannot be changed and reassigning them inside the function doesn’t affect the original object."
   ]
  },
  {
   "cell_type": "code",
   "execution_count": 15,
   "metadata": {},
   "outputs": [
    {
     "name": "stdout",
     "output_type": "stream",
     "text": [
      "hello, world\n",
      "hello\n",
      "['hello', ', world']\n"
     ]
    }
   ],
   "source": [
    "def fun(a, b):\n",
    "    a += \", world\"\n",
    "    # here `a` is `a` local variable, a totally different object than global variable `a`\n",
    "    b.append(\", world\")\n",
    "    # here b is a reference to the original list\n",
    "    print(a)\n",
    "\n",
    "a = \"hello\"\n",
    "b = [\"hello\"]\n",
    "fun(a, b)\n",
    "print(a)\n",
    "print(b)\n"
   ]
  },
  {
   "cell_type": "markdown",
   "metadata": {},
   "source": [
    "# List\n",
    "\n",
    "let's try some data structures like set"
   ]
  },
  {
   "cell_type": "code",
   "execution_count": null,
   "metadata": {},
   "outputs": [
    {
     "name": "stdout",
     "output_type": "stream",
     "text": [
      "[6, 1, 2, 3, 2, 4, 5, 1]\n",
      "{1, 2, 3, 4, 5, 6}\n",
      "[1, 2, 3, 4, 5, 6]\n",
      "[6, 1, 2, 3, 2, 4, 1]\n",
      "[6, 1, 2, 2, 4, 1]\n",
      "[6, 2, 2, 4, 1]\n",
      "[]\n"
     ]
    }
   ],
   "source": [
    "my_list = [6, 1, 2, 3, 2, 4, 5, 1]\n",
    "print(my_list)\n",
    "my_set = set(my_list)\n",
    "print(my_set)\n",
    "print(list(my_set))\n",
    "\n",
    "# deletions\n",
    "del my_list[6] # remove the element at index 6\n",
    "print(my_list)\n",
    "\n",
    "my_list.pop(3) # remove the element at index 3\n",
    "print(my_list)\n",
    "\n",
    "my_list.remove(1) # remove the first occurrence of value 1\n",
    "print(my_list)\n",
    "\n",
    "del my_list[:] # remove all elements\n",
    "print(my_list)"
   ]
  },
  {
   "cell_type": "markdown",
   "metadata": {},
   "source": [
    "# Dictionary\n",
    "\n",
    "let's research on dictionary, which is a hash table basically and using linked-list (separate chaining) to resolve the collision."
   ]
  },
  {
   "cell_type": "code",
   "execution_count": 7,
   "metadata": {},
   "outputs": [
    {
     "name": "stdout",
     "output_type": "stream",
     "text": [
      "key: apple, hash: 3, bucket: []\n",
      "key: banana, hash: 0, bucket: []\n",
      "key: apply, hash: 2, bucket: []\n",
      "key: apple, hash: 3, bucket: [('apple', 1)]\n",
      "5\n",
      "2\n",
      "3\n",
      "get error: 'melon' is not in the hash table\n",
      "get error: 'apply' is not in the hash table\n"
     ]
    }
   ],
   "source": [
    "# Simple example of separate chaining using lists as buckets\n",
    "class HashTable:\n",
    "    def __init__(self):\n",
    "        self.buckets = [[] for _ in range(5)]\n",
    "    \n",
    "    def get_bucket(self, key_hash):\n",
    "        return self.buckets[key_hash % len(self.buckets)]\n",
    "\n",
    "    def insert(self, key, value):\n",
    "        bucket = self.get_bucket(hash(key))\n",
    "        h = hash(key) % len(self.buckets)\n",
    "        print(f\"key: {key}, hash: {h}, bucket: {bucket}\")\n",
    "        # Search the bucket for the key\n",
    "        for i, (k, v) in enumerate(bucket):\n",
    "            if k == key:\n",
    "                bucket[i] = (key, value)\n",
    "                return\n",
    "        # If not found, append to the bucket\n",
    "        bucket.append((key, value))\n",
    "\n",
    "    def delete(self, key):\n",
    "        bucket = self.get_bucket(hash(key))\n",
    "        for i, (k, v) in enumerate(bucket):\n",
    "            if k == key:\n",
    "                del bucket[i]\n",
    "                return\n",
    "        raise KeyError(key)\n",
    "\n",
    "    def get(self, key):\n",
    "        bucket = self.get_bucket(hash(key))\n",
    "        for k, v in bucket:\n",
    "            if k == key:\n",
    "                return v\n",
    "        raise KeyError(key)\n",
    "\n",
    "# Create a hash table and insert some values\n",
    "ht = HashTable()\n",
    "ht.insert(\"apple\", 1)\n",
    "ht.insert(\"banana\", 2)\n",
    "ht.insert(\"apply\", 3)\n",
    "ht.insert(\"apple\", 5)\n",
    "\n",
    "try:\n",
    "    print(ht.get(\"apple\"))   # Output: 1\n",
    "    print(ht.get(\"banana\"))  # Output: 2\n",
    "    print(ht.get(\"apply\"))\n",
    "    print(ht.get(\"melon\"))\n",
    "except KeyError as e:\n",
    "    print(f\"get error: {e} is not in the hash table\")\n",
    "\n",
    "ht.delete(\"apply\")\n",
    "try:\n",
    "    print(ht.get(\"apply\"))\n",
    "except KeyError as e:\n",
    "    print(f\"get error: {e} is not in the hash table\")\n"
   ]
  },
  {
   "cell_type": "code",
   "execution_count": null,
   "metadata": {},
   "outputs": [
    {
     "name": "stdout",
     "output_type": "stream",
     "text": [
      "Laptop\n",
      "North America Laptop 500\n",
      "North America Phone 700\n",
      "Europe Tablet 400\n",
      "Europe Smartwatch 400\n",
      "Yes\n"
     ]
    }
   ],
   "source": [
    "sales_data = [\n",
    "    {\n",
    "        \"region\": \"North America\",\n",
    "        \"products\": [\n",
    "            {\"product_id\": 101, \"name\": \"Laptop\", \"sales\": 500},\n",
    "            {\"product_id\": 102, \"name\": \"Phone\", \"sales\": 700}\n",
    "        ]\n",
    "    },\n",
    "    {\n",
    "        \"region\": \"Europe\",\n",
    "        \"products\": [\n",
    "            {\"product_id\": 201, \"name\": \"Tablet\", \"sales\": 400},\n",
    "            {\"product_id\": 202, \"name\": \"Smartwatch\", \"sales\": 350}\n",
    "        ]\n",
    "    }\n",
    "]\n",
    "\n",
    "# Accessing nested data\n",
    "print(sales_data[0][\"products\"][0][\"name\"])  # Output: Laptop\n",
    "\n",
    "# Modifying sales data for a product in Europe\n",
    "sales_data[1][\"products\"][1][\"sales\"] = 400\n",
    "# print(sales_data)\n",
    "\n",
    "for item in sales_data:\n",
    "    for product in item[\"products\"]:\n",
    "        print(item[\"region\"], product[\"name\"], product[\"sales\"])\n",
    "\n",
    "if \"Europe\" in sales_data[1].values():\n",
    "    print(\"Yes\")"
   ]
  },
  {
   "cell_type": "markdown",
   "metadata": {},
   "source": [
    "# Misc\n",
    "\n",
    "## docstring and math module"
   ]
  },
  {
   "cell_type": "code",
   "execution_count": 30,
   "metadata": {},
   "outputs": [
    {
     "name": "stdout",
     "output_type": "stream",
     "text": [
      "Total Sales: 2000\n",
      "\n",
      "Calculate the total sales from the sales data.\n",
      "\n",
      "Args:\n",
      "    data (list): A list of dictionaries containing sales data. Each dictionary represents a region and contains a list of products with their sales.\n",
      "\n",
      "Returns:\n",
      "    int: The total sales from all regions and products.\n",
      "\n"
     ]
    }
   ],
   "source": [
    "def get_total_sales(data):\n",
    "    \"\"\"\n",
    "    Calculate the total sales from the sales data.\n",
    "\n",
    "    Args:\n",
    "        data (list): A list of dictionaries containing sales data. Each dictionary represents a region and contains a list of products with their sales.\n",
    "\n",
    "    Returns:\n",
    "        int: The total sales from all regions and products.\n",
    "    \"\"\"\n",
    "    total_sales = 0\n",
    "    for region in data:\n",
    "        for product in region[\"products\"]:\n",
    "            total_sales += product[\"sales\"]\n",
    "    return total_sales\n",
    "\n",
    "# Example usage\n",
    "total_sales = get_total_sales(sales_data)\n",
    "print(f\"Total Sales: {total_sales}\")\n",
    "\n",
    "print(get_total_sales.__doc__)"
   ]
  },
  {
   "cell_type": "code",
   "execution_count": 33,
   "metadata": {},
   "outputs": [
    {
     "name": "stdout",
     "output_type": "stream",
     "text": [
      "2.5\n",
      "2\n",
      "3\n"
     ]
    }
   ],
   "source": [
    "import math\n",
    "\n",
    "print(5/2)\n",
    "print(5//2)\n",
    "print(math.ceil(5/2))"
   ]
  },
  {
   "cell_type": "markdown",
   "metadata": {},
   "source": [
    "## about `*args` and `**kwargs`\n",
    "\n",
    "* just using `for` loop over it"
   ]
  },
  {
   "cell_type": "code",
   "execution_count": null,
   "metadata": {},
   "outputs": [
    {
     "name": "stdout",
     "output_type": "stream",
     "text": [
      "First argument: 1\n",
      "\n",
      "Additional arguments (*args):\n",
      "2\n",
      "3\n",
      "4\n",
      "\n",
      "Keyword arguments (**kwargs):\n",
      "name: Alice\n",
      "age: 30\n",
      "city: New York\n"
     ]
    }
   ],
   "source": [
    "def example_function(arg1, *args, **kwargs):\n",
    "    print(\"First argument:\", arg1)\n",
    "    \n",
    "    print(\"\\nAdditional arguments (*args):\")\n",
    "    for arg in args:\n",
    "        print(arg)\n",
    "    \n",
    "    print(\"\\nKeyword arguments (**kwargs):\")\n",
    "    for key, value in kwargs.items():\n",
    "        print(f\"{key}: {value}\")\n",
    "\n",
    "# Example usage\n",
    "example_function(1, 2, 3, 4, name=\"Alice\", age=30, city=\"New York\")"
   ]
  },
  {
   "cell_type": "markdown",
   "metadata": {},
   "source": [
    "## lambda function\n",
    "\n",
    "* can have any number of parameters but, can have just one statement."
   ]
  },
  {
   "cell_type": "code",
   "execution_count": null,
   "metadata": {},
   "outputs": [
    {
     "name": "stdout",
     "output_type": "stream",
     "text": [
      "26\n"
     ]
    }
   ],
   "source": [
    "a = lambda x, y : x+y\n",
    "print(a(7, 19))"
   ]
  },
  {
   "cell_type": "markdown",
   "metadata": {},
   "source": [
    "## Comprehension\n",
    "\n",
    "* a syntax construction to ease the creation of list/set/dict. Also, people are saying it is more efficient"
   ]
  },
  {
   "cell_type": "code",
   "execution_count": null,
   "metadata": {},
   "outputs": [
    {
     "name": "stdout",
     "output_type": "stream",
     "text": [
      "[2, 6, 8, 12, 14, 16, 6, 8, 18]\n",
      "{2, 6, 8, 12, 14, 16, 18}\n",
      "{1: 4, 3: 12, 4: 16, 6: 24, 7: 28, 8: 32, 9: 36}\n",
      "{1: 4, 4: 16, 6: 24, 7: 28, 8: 32, 9: 36}\n",
      "[1, 3, 4]\n",
      "[100, 3, 4]\n",
      "[1, 3, 4, 6, 7, 8, 3, 4, 9]\n"
     ]
    }
   ],
   "source": [
    "# list\n",
    "old_list = [1, 3, 4, 6, 7, 8, 3, 4, 9]\n",
    "new_list = [x*2 for x in old_list]\n",
    "print(new_list)\n",
    "a_set = {x*2 for x in old_list}\n",
    "print(a_set)\n",
    "a_dict = {x: x*4 for x in old_list}\n",
    "print(a_dict)\n",
    "\n",
    "del a_dict[3]\n",
    "print(a_dict)\n",
    "\n",
    "sliced = old_list[:3]\n",
    "print(sliced)\n",
    "sliced[0] = 100\n",
    "print(sliced)\n",
    "print(old_list)"
   ]
  },
  {
   "cell_type": "markdown",
   "metadata": {},
   "source": [
    "## range() is exclusive of the end value"
   ]
  },
  {
   "cell_type": "code",
   "execution_count": null,
   "metadata": {},
   "outputs": [
    {
     "name": "stdout",
     "output_type": "stream",
     "text": [
      "[0, 1, 2]\n"
     ]
    }
   ],
   "source": [
    "l=list(range(3))\n",
    "print(l)"
   ]
  },
  {
   "cell_type": "markdown",
   "metadata": {},
   "source": [
    "# Class and OOP\n",
    "\n",
    "- **Overriding** is about redefining methods in subclasses to provide specific implementations, aka polymorphism.\n",
    "- **Overloading** allows multiple functions or methods with the same name but different parameter lists.\n",
    "\n",
    "## interface class vs abstract class\n",
    "\n",
    "* conceptually, interface class is only about abstract methods the child class must implement\n",
    "* while abstract class can have both abstract methods and concrete methods\n",
    "* python has a module ABC (Abstract Base Class) to realize this idea\n",
    "\n",
    "```\n",
    "   from abc import ABC, abstractmethod\n",
    "\n",
    "   class Animal(ABC):\n",
    "       @abstractmethod\n",
    "       def sound(self):\n",
    "           pass\n",
    "\n",
    "   class Dog(Animal):\n",
    "       def sound(self):\n",
    "           print(\"Bark\")\n",
    "\n",
    "   class Cat(Animal):\n",
    "       def sound(self):\n",
    "           print(\"Meow\")\n",
    "```\n"
   ]
  },
  {
   "cell_type": "code",
   "execution_count": 38,
   "metadata": {},
   "outputs": [
    {
     "name": "stdout",
     "output_type": "stream",
     "text": [
      "[huahua:] Woof!\n",
      "Brown\n",
      "ZZZ\n"
     ]
    }
   ],
   "source": [
    "class Dog:\n",
    "    def __init__(self, name=None):\n",
    "        if name:\n",
    "            self.name = name\n",
    "        else:\n",
    "            self.name = \"Unknown\"\n",
    "\n",
    "    def bark(self):\n",
    "        print(f\"[{self.name}:] Woof!\")\n",
    "\n",
    "# Dynamically adding a color attribute to the Dog class\n",
    "Dog.color = \"Brown\"\n",
    "\n",
    "# Creating an instance of Dog\n",
    "dog_instance = Dog(\"huahua\")\n",
    "dog_instance.bark()  # Outputs \"[huahua:] Woof!\"\n",
    "\n",
    "# Accessing the dynamically added color attribute\n",
    "print(dog_instance.color)  # Outputs \"Brown\"\n",
    "\n",
    "# Dynamically adding a sleep method to the Dog class\n",
    "def sleep(self):\n",
    "    print(\"ZZZ\")\n",
    "\n",
    "Dog.sleep = sleep\n",
    "\n",
    "# Accessing the dynamically added sleep method\n",
    "dog_instance.sleep()  # Outputs \"ZZZ\""
   ]
  },
  {
   "cell_type": "markdown",
   "metadata": {},
   "source": [
    "# map()\n",
    "\n",
    "* given a list of items, map() iterate over them and process each of them with a function\n",
    "* returns a map object, which can be converted to a list by `list()`"
   ]
  },
  {
   "cell_type": "code",
   "execution_count": 66,
   "metadata": {},
   "outputs": [
    {
     "name": "stdout",
     "output_type": "stream",
     "text": [
      "<class 'map'>\n",
      "<map object at 0x7637a1b3b520>\n",
      "[1, 4, 9, 16]\n",
      "[5, 7, 9]\n",
      "[1, 9, 25]\n",
      "['NAME: ALICE', 'NAME: BOB', 'NAME: CHARLIE']\n",
      "576\n",
      "[2, 4, 6, 8, 10]\n",
      "Error processing item: a. Returning None.\n",
      "[2, 4, None, 8, 10]\n"
     ]
    }
   ],
   "source": [
    "numbers = [1, 2, 3, 4]\n",
    "squared = map(lambda x: x ** 2, numbers)\n",
    "print(type(squared))\n",
    "print(squared)\n",
    "print(list(squared))\n",
    "\n",
    "# Using map() with multiple iterables\n",
    "list1 = [1, 2, 3]\n",
    "list2 = [4, 5, 6]\n",
    "\n",
    "added = map(lambda x, y: x + y, list1, list2)\n",
    "print(list(added))\n",
    "\n",
    "# with filter\n",
    "numbers = [1, 2, 3, 4, 5]\n",
    "odds = filter(lambda x: x % 2 != 0, numbers)\n",
    "squared_odds = map(lambda x: x ** 2, odds)\n",
    "print(list(squared_odds)) \n",
    "\n",
    "# with object\n",
    "class Person:\n",
    "    def __init__(self, name):\n",
    "        self.name = name\n",
    "\n",
    "people = [Person(\"Alice\"), Person(\"Bob\"), Person(\"Charlie\")]\n",
    "names = map(lambda x: f\"NAME: {x.name.upper()}\", people)\n",
    "print(list(names)) \n",
    "\n",
    "# with reduce\n",
    "from functools import reduce\n",
    "\n",
    "numbers = [2, 3, 4]\n",
    "squared = map(lambda x: x ** 2, numbers)\n",
    "product = reduce(lambda x, y: x * y, squared)\n",
    "print(product)\n",
    "\n",
    "# with custom iterator\n",
    "class MyIterator:\n",
    "    def __init__(self, start, end):\n",
    "        self.start = start\n",
    "        self.end = end\n",
    "\n",
    "    def __iter__(self):\n",
    "        for i in range(self.start, self.end + 1):\n",
    "            yield i\n",
    "\n",
    "iterator = MyIterator(1, 5)\n",
    "mapped = map(lambda x: x * 2, iterator)\n",
    "print(list(mapped))\n",
    "\n",
    "# error handling\n",
    "def process_item(item):\n",
    "    try:\n",
    "        # Attempt to perform an operation that might raise an exception\n",
    "        result = int(item) * 2\n",
    "        return result\n",
    "    except ValueError:\n",
    "        # Handle the exception, e.g., by returning a default value or logging the error\n",
    "        print(f\"Error processing item: {item}. Returning None.\")\n",
    "        return None\n",
    "\n",
    "data = [1, 2, 'a', 4, 5]\n",
    "processed_data = list(map(process_item, data))\n",
    "print(processed_data)\n",
    "# Expected output: [2, 4, None, 8, 10]"
   ]
  },
  {
   "cell_type": "code",
   "execution_count": 59,
   "metadata": {},
   "outputs": [
    {
     "name": "stdout",
     "output_type": "stream",
     "text": [
      "Sequential execution time: 1.3616161346435547\n",
      "Parallel execution time: 2.9431400299072266\n",
      "[0, 1, 4, 9, 16, 25, 36, 49, 64, 81]\n"
     ]
    }
   ],
   "source": [
    "import multiprocessing\n",
    "import time\n",
    "\n",
    "def square(x):\n",
    "    return x ** 2\n",
    "\n",
    "data = [i for i in range(10000000)]\n",
    "\n",
    "# Using built-in map()\n",
    "sequential_start = time.time()\n",
    "squared_sequential = list(map(square, data))\n",
    "print(\"Sequential execution time:\", time.time() - sequential_start)\n",
    "\n",
    "# Using multiprocessing's map()\n",
    "processes_start = time.time()\n",
    "with multiprocessing.Pool(processes=16) as pool:\n",
    "    squared_parallel = pool.map(square, data)\n",
    "print(\"Parallel execution time:\", time.time() - processes_start)\n",
    "print(squared_parallel[:10])"
   ]
  }
 ],
 "metadata": {
  "kernelspec": {
   "display_name": "Python 3 (ipykernel)",
   "language": "python",
   "name": "python3"
  },
  "language_info": {
   "codemirror_mode": {
    "name": "ipython",
    "version": 3
   },
   "file_extension": ".py",
   "mimetype": "text/x-python",
   "name": "python",
   "nbconvert_exporter": "python",
   "pygments_lexer": "ipython3",
   "version": "3.13.2"
  }
 },
 "nbformat": 4,
 "nbformat_minor": 4
}
